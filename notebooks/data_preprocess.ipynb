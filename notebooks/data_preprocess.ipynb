{
 "cells": [
  {
   "cell_type": "markdown",
   "metadata": {},
   "source": [
    "# Data Preprocess"
   ]
  },
  {
   "cell_type": "markdown",
   "metadata": {},
   "source": [
    "Based on the initial EDA analysis, given the dataset characteristics, minimal preprocessing should suffice:\n",
    "\n",
    "1. Convert text to lowercase\n",
    "2. Remove extra whitespace\n",
    "3. No need for complex preprocessing due to:\n",
    "    - Small and balanced dataset size\n",
    "    - Clear sentiment patterns\n",
    "    - Well-distributed classes\n",
    "4. Removing stopwords may help to reduce the noise of the token, but considering we fine-tune a bert model which may benefit from the context provided by these common words, we could keep the stopwords for now and start experiment with a simple processing approach for now.\n",
    "5. Removing punctuation - while keeping stopwords can help simplify the data without losing essential context.\n",
    "\n",
    "Simple preprocessing might help preserve important sentiment indicators. This dataset size is suitable for quick experimentation and model iteration.\n"
   ]
  },
  {
   "cell_type": "markdown",
   "metadata": {},
   "source": [
    "## Import required libraries"
   ]
  },
  {
   "cell_type": "code",
   "execution_count": 7,
   "metadata": {},
   "outputs": [],
   "source": [
    "import pandas as pd\n",
    "import os\n",
    "import re\n",
    "import string"
   ]
  },
  {
   "cell_type": "code",
   "execution_count": 8,
   "metadata": {},
   "outputs": [],
   "source": [
    "df_raw = pd.read_csv('../data/raw/Restaurant_Reviews.tsv', sep='\\t')"
   ]
  },
  {
   "cell_type": "markdown",
   "metadata": {},
   "source": [
    "## Preprocess the Review"
   ]
  },
  {
   "cell_type": "code",
   "execution_count": 9,
   "metadata": {},
   "outputs": [],
   "source": [
    "def preprocess_text(text):\n",
    "    # Convert to lowercase\n",
    "    text = text.lower()\n",
    "    \n",
    "    # Remove numbers\n",
    "    text = re.sub(r'\\d+', '', text)\n",
    "    \n",
    "    # Remove punctuation\n",
    "    text = text.translate(str.maketrans('', '', string.punctuation))\n",
    "    \n",
    "    # Remove newlines and extra whitespace\n",
    "    text = ' '.join(text.split())\n",
    "    \n",
    "    return text\n"
   ]
  },
  {
   "cell_type": "code",
   "execution_count": 10,
   "metadata": {},
   "outputs": [],
   "source": [
    "def process_raw_data(df):\n",
    "    # Apply preprocess_text function to the 'Review' column\n",
    "    df['Review'] = df['Review'].apply(lambda x: preprocess_text(x))\n",
    "    return df"
   ]
  },
  {
   "cell_type": "code",
   "execution_count": 11,
   "metadata": {},
   "outputs": [],
   "source": [
    "# Function to save the processed DataFrame\n",
    "def save_processed_data(df, file_name, folder_path='../data/processed'):\n",
    "    os.makedirs(folder_path, exist_ok=True)\n",
    "\n",
    "    file_path = os.path.join(folder_path, file_name)\n",
    "    df.to_csv(file_path, index=False)\n",
    "    print(f\"Processed data saved to {file_path}\")"
   ]
  },
  {
   "cell_type": "code",
   "execution_count": 12,
   "metadata": {},
   "outputs": [
    {
     "name": "stdout",
     "output_type": "stream",
     "text": [
      "Processed data saved to ../data/processed/processed_data.csv\n"
     ]
    }
   ],
   "source": [
    "# call the helper functions\n",
    "df_processed = process_raw_data(df_raw)\n",
    "save_processed_data(df_processed, 'processed_data.csv')"
   ]
  },
  {
   "cell_type": "code",
   "execution_count": null,
   "metadata": {},
   "outputs": [],
   "source": []
  }
 ],
 "metadata": {
  "kernelspec": {
   "display_name": "Python 3",
   "language": "python",
   "name": "python3"
  },
  "language_info": {
   "codemirror_mode": {
    "name": "ipython",
    "version": 3
   },
   "file_extension": ".py",
   "mimetype": "text/x-python",
   "name": "python",
   "nbconvert_exporter": "python",
   "pygments_lexer": "ipython3",
   "version": "3.10.12"
  }
 },
 "nbformat": 4,
 "nbformat_minor": 2
}
