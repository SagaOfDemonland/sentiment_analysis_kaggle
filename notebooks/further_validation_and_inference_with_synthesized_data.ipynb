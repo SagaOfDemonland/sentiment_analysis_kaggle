{
 "cells": [
  {
   "cell_type": "markdown",
   "metadata": {},
   "source": [
    "# Further Validation and Inference\n",
    "\n",
    "In this notebook, we aim to further evaluate the model’s performance by exploring additional validation and inference techniques. Although the initial evaluation yielded promising results, conducting more robust validation will help us gain deeper insights into the model's generalization capabilities.\n",
    "\n",
    "### Approaches for Extended Validation\n",
    "\n",
    "1. **Cross-Validation with K-Fold**:  \n",
    "   Cross-validation is a commonly used technique to validate a model’s performance across multiple subsets of the data. In this approach, the dataset is divided into `K` equal folds, and the model is trained and evaluated `K` times, each time using a different fold as the validation set while the remaining folds serve as the training set. This method helps us:\n",
    "   - Obtain a more reliable estimate of the model’s performance across different subsets of data.\n",
    "   - Identify any potential overfitting by analyzing the variance in performance across folds.\n",
    "   \n",
    "   Although K-Fold cross-validation is not implemented in this notebook, it’s a recommended approach for further rigorous validation if we have enough data.\n",
    "\n",
    "2. **Synthetic Dataset Generation Using Large Language Models (LLMs)**:  \n",
    "   To further test the model’s robustness and performance, we propose creating a synthesized dataset using a Large Language Model (LLM). By using prompts tailored to our data characteristics, we can generate additional data points that simulate real-world scenarios. This synthesized data will provide a new source for testing, enabling us to:\n",
    "   - Evaluate the model’s performance on unseen, diverse data, thereby testing its generalization to novel inputs.\n",
    "   - Increase the dataset size for validation without the need for additional real-world data collection.\n",
    "   \n",
    "   Leveraging LLMs for data augmentation allows us to create a wide variety of examples that may capture nuances not present in the original dataset, thereby enhancing the evaluation process.\n",
    "\n",
    "### Goals of Further Validation and Testing\n",
    "\n",
    "- **Improved Generalization Insight**: Using synthetic data and cross-validation will help us understand the model’s behavior across a broader range of data distributions.\n",
    "- **Identify Potential Model Weaknesses**: By challenging the model with diverse synthesized examples, we can reveal areas where the model may need improvement or fine-tuning.\n",
    "- **Broader Inference Testing**: With an expanded dataset, we can explore more complex inference scenarios, making the model evaluation more comprehensive.\n",
    "\n",
    "### Next Steps\n",
    "\n",
    "- Use prompt-based techniques to generate synthetic data similar to the original dataset.\n",
    "- Evaluate the model on this synthesized dataset and analyze the results.\n",
    "- Optionally, implement K-Fold cross-validation in future notebooks for a more thorough validation process.\n",
    "\n",
    "By following these steps, we aim to build a stronger understanding of the model’s capabilities and potential limitations, ultimately leading to a more robust and reliable model."
   ]
  },
  {
   "cell_type": "markdown",
   "metadata": {},
   "source": [
    "### Import Libraries"
   ]
  },
  {
   "cell_type": "code",
   "execution_count": 57,
   "metadata": {},
   "outputs": [
    {
     "data": {
      "text/plain": [
       "True"
      ]
     },
     "execution_count": 57,
     "metadata": {},
     "output_type": "execute_result"
    }
   ],
   "source": [
    "import pandas as pd\n",
    "import torch\n",
    "from transformers import BertTokenizer, BertForSequenceClassification, Trainer, TrainingArguments\n",
    "from sklearn.model_selection import train_test_split\n",
    "from sklearn.metrics import confusion_matrix, accuracy_score, roc_curve, auc, precision_recall_curve\n",
    "from datasets import Dataset\n",
    "import os\n",
    "import openai\n",
    "import json\n",
    "import re\n",
    "import string\n",
    "import matplotlib.pyplot as plt\n",
    "from dotenv import load_dotenv\n",
    "load_dotenv()\n"
   ]
  },
  {
   "cell_type": "code",
   "execution_count": 6,
   "metadata": {},
   "outputs": [],
   "source": [
    "openai.api_key = os.getenv(\"OPENAI_API_KEY\")"
   ]
  },
  {
   "cell_type": "markdown",
   "metadata": {},
   "source": [
    "### Define the Prompt\n",
    "You probably need some prompt engineering works to make sure the prompt can help you to generate the expected content in apporpriate format. Youl also can try the synthesized data I saved under the folder `../data/synthesized/`"
   ]
  },
  {
   "cell_type": "code",
   "execution_count": 33,
   "metadata": {},
   "outputs": [],
   "source": [
    "reviews_generation_prompt = '''Generate 100 customer reviews for a restaurant, with 50 positive reviews and 50 negative reviews.\n",
    "\n",
    "- Positive Reviews: Each review should express satisfaction with the restaurant's food, service, ambiance, or overall experience. The style should be a mix of formal and casual language, with both short and long sentences. Some reviews can be enthusiastic, while others can be more reserved but still positive. Here are some examples for reference:\n",
    "    - \"The food was absolutely delicious! I can't wait to come back.\"\n",
    "    - \"A wonderful dining experience. The ambiance was cozy, and the staff were attentive.\"\n",
    "    - \"Amazing service and fantastic food! Loved every dish we tried.\"\n",
    "    - \"I enjoyed the atmosphere and the food. Highly recommended!\"\n",
    "    - \"Best meal I've had in a long time. The flavors were incredible, and the presentation was stunning.\"\n",
    "\n",
    "- Negative Reviews: Each review should express disappointment with the food, service, ambiance, or overall experience. The style should also be a mix of formal and casual language, with both short and long sentences. Some reviews can be mildly disappointed, while others can express stronger dissatisfaction. Here are some examples for reference:\n",
    "    - \"The food was cold, and the service was slow. Not impressed.\"\n",
    "    - \"I was really looking forward to this place, but it didn't live up to the hype.\"\n",
    "    - \"Unfortunately, the dishes were bland, and the portions were small.\"\n",
    "    - \"I expected more given the high prices. Won't be coming back.\"\n",
    "    - \"The ambiance was nice, but the food and service left much to be desired.\"\n",
    "Generate 50 unique positive reviews and 50 unique negative reviews, and return them in the following raw JSON format which is ready for programming:\n",
    "{\n",
    "    \"positive_reviews\": [list of positive reviews],\n",
    "    \"negative_reviews\": [list of negative reviews]\n",
    "}\n",
    "'''"
   ]
  },
  {
   "cell_type": "code",
   "execution_count": 40,
   "metadata": {},
   "outputs": [],
   "source": [
    "\n",
    "def generate_synthetic_reviews():\n",
    "    response = openai.ChatCompletion.create(\n",
    "        model=\"gpt-4o\",  \n",
    "        messages=[{\"role\": \"system\", \"content\": reviews_generation_prompt}],\n",
    "        max_tokens=3500,\n",
    "        temperature=0.7\n",
    "    )\n",
    "    \n",
    "    response_text = response.choices[0].message['content'].strip()\n",
    "    clean_text = re.sub(r'```json|```', '', response_text).strip()\n",
    "    positive_reviews, negative_reviews = [], []\n",
    "\n",
    "    try:\n",
    "        review_data = json.loads(clean_text)\n",
    "        positive_reviews = review_data.get(\"positive_reviews\", [])\n",
    "        negative_reviews = review_data.get(\"negative_reviews\", [])\n",
    "    except json.JSONDecodeError as e:\n",
    "        print(\"Error decoding JSON:\", e)\n",
    "        return None, None\n",
    "    \n",
    "    # Return the generated lists\n",
    "    return positive_reviews, negative_reviews"
   ]
  },
  {
   "cell_type": "code",
   "execution_count": 41,
   "metadata": {},
   "outputs": [
    {
     "name": "stdout",
     "output_type": "stream",
     "text": [
      "```json\n",
      "{\n",
      "    \"positive_reviews\": [\n",
      "        \"The food was absolutely delicious! I can't wait to come back.\",\n",
      "        \"A wonderful dining experience. The ambiance was cozy, and the staff were attentive.\",\n",
      "        \"Amazing service and fantastic food! Loved every dish we tried.\",\n",
      "        \"I enjoyed the atmosphere and the food. Highly recommended!\",\n",
      "        \"Best meal I've had in a long time. The flavors were incredible, and the presentation was stunning.\",\n",
      "        \"Our waiter was so friendly and made great recommendations. The dessert was my favorite part!\",\n",
      "        \"The atmosphere was vibrant, and the food was mouth-watering. I'll definitely return soon.\",\n",
      "        \"A delightful place to dine. The chef's special was a culinary masterpiece.\",\n",
      "        \"Service was impeccable, and the drinks were expertly crafted. A true gem!\",\n",
      "        \"From start to finish, everything was perfect. Can't wait to bring my friends here.\",\n",
      "        \"The decor is beautiful, and the food matches it in quality. Very impressed!\",\n",
      "        \"Highly enjoyable experience. The pasta was cooked to perfection.\",\n",
      "        \"The staff were courteous and the ambiance relaxing. A great spot for date night.\",\n",
      "        \"Loved the innovative menu. Each dish had a unique twist that was delightful.\",\n",
      "        \"A hidden treasure! The seafood platter was fresh and flavorful.\",\n",
      "        \"The best brunch in town. The eggs benedict was heavenly.\",\n",
      "        \"Fantastic evening! The wine selection paired perfectly with our meal.\",\n",
      "        \"Warm and inviting atmosphere with delicious dishes. We'll be back soon.\",\n",
      "        \"The chef's creativity shines through every dish. Truly exceptional dining.\",\n",
      "        \"I've been here several times, and it never disappoints. Always a great experience.\",\n",
      "        \"Perfect place for celebrations. The staff made our anniversary special.\",\n",
      "        \"The steak was cooked exactly to my liking, and the sides were just as good.\",\n",
      "        \"Charming place with a great vibe. The appetizers were especially good.\",\n",
      "        \"Delightful dinner! The presentation of each dish was impressive.\",\n",
      "        \"The dessert was the highlight of the meal. We couldn't stop raving about it.\",\n",
      "        \"Friendly staff, cozy ambiance, and delicious food. What more could you ask for?\",\n",
      "        \"An eclectic menu with something for everyone. The vegetarian options were superb.\",\n",
      "        \"It's always a pleasure dining here. The chef's passion is evident in every bite.\",\n",
      "        \"The ambiance set the perfect mood for a wonderful evening out.\",\n",
      "        \"The service was prompt and polite. We felt very well taken care of.\",\n",
      "        \"Great value for the quality of food and service. Will definitely recommend.\",\n",
      "        \"The soup was a comforting start to our meal, followed by a sensational main course.\",\n",
      "        \"We enjoyed every moment. The restaurant has a wonderful energy.\",\n",
      "        \"The attention to detail in both food and service was outstanding.\",\n",
      "        \"The staff went above and beyond to make our visit memorable.\",\n",
      "        \"My taste buds were delighted by the rich flavors of our dishes.\",\n",
      "        \"The restaurant's atmosphere is perfect for any occasion. Loved it!\",\n",
      "        \"Sophisticated yet approachable menu. Everything was cooked to perfection.\",\n",
      "        \"The seafood was incredibly fresh and cooked to perfection.\",\n",
      "        \"I was thoroughly impressed by the innovative dishes. A must-visit!\",\n",
      "        \"The cocktails were expertly mixed, and the ambiance was just right.\",\n",
      "        \"The chef came out to greet us, which made our dinner feel special.\",\n",
      "        \"Great place to unwind with friends over a delicious meal.\",\n",
      "        \"The lighting and decor create a lovely dining environment.\",\n",
      "        \"The dessert menu is to die for! The chocolate cake was divine.\",\n",
      "        \"Very pleased with the entire experience. We'll definitely be back.\",\n",
      "        \"The staff were knowledgeable and helped us choose the perfect wine.\",\n",
      "        \"A delightful escape from the everyday routine. We loved the food!\",\n",
      "        \"It's a place where flavors truly come alive. Can't wait to return.\",\n",
      "        \"Every dish was a work of art. The presentation was as good as the taste.\"\n",
      "    ],\n",
      "    \"negative_reviews\": [\n",
      "        \"The food was cold, and the service was slow. Not impressed.\",\n",
      "        \"I was really looking forward to this place, but it didn't live up to the hype.\",\n",
      "        \"Unfortunately, the dishes were bland, and the portions were small.\",\n",
      "        \"I expected more given the high prices. Won't be coming back.\",\n",
      "        \"The ambiance was nice, but the food and service left much to be desired.\",\n",
      "        \"Service was inattentive, and the food took forever to arrive. Disappointing.\",\n",
      "        \"The menu was limited, and what we ordered was lacking in flavor.\",\n",
      "        \"Overpriced for what you get. The quality just wasn't there.\",\n",
      "        \"We found the restaurant to be overly noisy, making it hard to enjoy our meal.\",\n",
      "        \"The steak was overcooked, and the sides were underwhelming.\",\n",
      "        \"Wasn't impressed by the lack of options for vegetarians.\",\n",
      "        \"The dessert was the only redeeming factor, but still not worth a return visit.\",\n",
      "        \"Our waiter seemed disinterested and didn't check on us after our food arrived.\",\n",
      "        \"The pasta was mushy, and the sauce was too salty.\",\n",
      "        \"The atmosphere felt cold and uninviting. Not a place I'd recommend.\",\n",
      "        \"The food was mediocre at best, and the service was lackluster.\",\n",
      "        \"The portion sizes were disappointing considering the price point.\",\n",
      "        \"The restaurant was overcrowded, and the staff seemed overwhelmed.\",\n",
      "        \"I found the food to be unremarkable and overpriced.\",\n",
      "        \"The drinks were watered down, and the service was inattentive.\",\n",
      "        \"Not worth the money. There are better places nearby.\",\n",
      "        \"The noise level was unbearable, and the food was nothing special.\",\n",
      "        \"I've had better experiences elsewhere. This one didn't meet my expectations.\",\n",
      "        \"The waiter got our order wrong and didn't apologize. Frustrating experience.\",\n",
      "        \"The restaurant was understaffed, causing delays in service.\",\n",
      "        \"The appetizers were bland and uninspired.\",\n",
      "        \"The food took too long to come out, and when it did, it was lukewarm.\",\n",
      "        \"The seating was cramped, and the service was slow.\",\n",
      "        \"The ambiance was alright, but the food didn't live up to it.\",\n",
      "        \"Very average dining experience. Wouldn't recommend it.\",\n",
      "        \"The fish was overcooked, and the salad was wilted.\",\n",
      "        \"Disappointed by the lack of attention from the staff.\",\n",
      "        \"The prices didn't match the quality of the food.\",\n",
      "        \"I found the menu to be too limited and not very appealing.\",\n",
      "        \"The service was rushed, making us feel unwelcome.\",\n",
      "        \"The main course was forgettable, and the dessert was too sweet.\",\n",
      "        \"Not a fan of the decor or the food. Needs improvement.\",\n",
      "        \"The wait time was excessive, and the food wasn't worth it.\",\n",
      "        \"The staff seemed indifferent to our needs. Not a great experience.\",\n",
      "        \"The chicken was dry, and the vegetables were undercooked.\",\n",
      "        \"Overall, a lackluster experience. I've had much better meals elsewhere.\",\n",
      "        \"The restaurant was too dimly lit, making it hard to read the menu.\",\n",
      "        \"The flavors were one-dimensional and uninspiring.\",\n",
      "        \"The dessert menu was limited, and what we tried wasn't great.\",\n",
      "        \"The food was forgettable, and the service was subpar.\",\n",
      "        \"The ambiance didn't match the quality of the food.\",\n",
      "        \"The service was slow, and the food was just okay.\",\n",
      "        \"The flavors were bland and lacked creativity.\",\n",
      "        \"It was an average dining experience. Nothing stood out.\",\n",
      "        \"The portions were too small for the price. Not satisfied.\"\n",
      "    ]\n",
      "}\n",
      "```\n",
      "Sample Positive Review: The food was absolutely delicious! I can't wait to come back. with 50 reviews\n",
      "Sample Negative Review:The food was cold, and the service was slow. Not impressed. with 50 reviews\n"
     ]
    }
   ],
   "source": [
    "positive_reviews, negative_reviews = generate_synthetic_reviews()\n",
    "print(f\"Sample Positive Review: {positive_reviews[0]} with {len(positive_reviews)} reviews\")\n",
    "print(f\"Sample Negative Review:{negative_reviews[0]} with {len(negative_reviews)} reviews\")"
   ]
  },
  {
   "cell_type": "markdown",
   "metadata": {},
   "source": [
    "### Save the Synthesized Data for Use"
   ]
  },
  {
   "cell_type": "code",
   "execution_count": 42,
   "metadata": {},
   "outputs": [],
   "source": [
    "# Create a DataFrame for positive and negative reviews\n",
    "positive_df = pd.DataFrame({\"Review\": positive_reviews, \"Liked\": 1})\n",
    "negative_df = pd.DataFrame({\"Review\": negative_reviews, \"Liked\": 0})\n",
    "\n",
    "# Concatenate both DataFrames\n",
    "synthesized_df = pd.concat([positive_df, negative_df], ignore_index=True)\n",
    "\n",
    "# Define the save path and ensure the directory exists\n",
    "save_path = \"../data/synthesized\"\n",
    "os.makedirs(save_path, exist_ok=True)\n",
    "\n",
    "# Save the DataFrame as a CSV file\n",
    "csv_file_path = os.path.join(save_path, \"synthesized_reviews.csv\")\n",
    "synthesized_df.to_csv(csv_file_path, index=False)\n"
   ]
  },
  {
   "cell_type": "markdown",
   "metadata": {},
   "source": [
    "### Preprocess the Synthesized Dataset"
   ]
  },
  {
   "cell_type": "code",
   "execution_count": 45,
   "metadata": {},
   "outputs": [],
   "source": [
    "# remember the helper function we have already been used earlier\n",
    "def preprocess_text(text):\n",
    "    # Convert to lowercase\n",
    "    text = text.lower()\n",
    "    \n",
    "    # Remove numbers\n",
    "    text = re.sub(r'\\d+', '', text)\n",
    "    \n",
    "    # Remove punctuation\n",
    "    text = text.translate(str.maketrans('', '', string.punctuation))\n",
    "    \n",
    "    # Remove newlines and extra whitespace\n",
    "    text = ' '.join(text.split())\n",
    "    \n",
    "    return text\n",
    "def process_raw_data(df):\n",
    "    # Apply preprocess_text function to the 'Review' column\n",
    "    df['Review'] = df['Review'].apply(lambda x: preprocess_text(x))\n",
    "    return df"
   ]
  },
  {
   "cell_type": "code",
   "execution_count": 46,
   "metadata": {},
   "outputs": [],
   "source": [
    "processed_synthesized_df = process_raw_data(synthesized_df)"
   ]
  },
  {
   "cell_type": "code",
   "execution_count": 47,
   "metadata": {},
   "outputs": [
    {
     "data": {
      "text/html": [
       "<div>\n",
       "<style scoped>\n",
       "    .dataframe tbody tr th:only-of-type {\n",
       "        vertical-align: middle;\n",
       "    }\n",
       "\n",
       "    .dataframe tbody tr th {\n",
       "        vertical-align: top;\n",
       "    }\n",
       "\n",
       "    .dataframe thead th {\n",
       "        text-align: right;\n",
       "    }\n",
       "</style>\n",
       "<table border=\"1\" class=\"dataframe\">\n",
       "  <thead>\n",
       "    <tr style=\"text-align: right;\">\n",
       "      <th></th>\n",
       "      <th>Review</th>\n",
       "      <th>Liked</th>\n",
       "    </tr>\n",
       "  </thead>\n",
       "  <tbody>\n",
       "    <tr>\n",
       "      <th>0</th>\n",
       "      <td>the food was absolutely delicious i cant wait ...</td>\n",
       "      <td>1</td>\n",
       "    </tr>\n",
       "    <tr>\n",
       "      <th>1</th>\n",
       "      <td>a wonderful dining experience the ambiance was...</td>\n",
       "      <td>1</td>\n",
       "    </tr>\n",
       "    <tr>\n",
       "      <th>2</th>\n",
       "      <td>amazing service and fantastic food loved every...</td>\n",
       "      <td>1</td>\n",
       "    </tr>\n",
       "    <tr>\n",
       "      <th>3</th>\n",
       "      <td>i enjoyed the atmosphere and the food highly r...</td>\n",
       "      <td>1</td>\n",
       "    </tr>\n",
       "    <tr>\n",
       "      <th>4</th>\n",
       "      <td>best meal ive had in a long time the flavors w...</td>\n",
       "      <td>1</td>\n",
       "    </tr>\n",
       "  </tbody>\n",
       "</table>\n",
       "</div>"
      ],
      "text/plain": [
       "                                              Review  Liked\n",
       "0  the food was absolutely delicious i cant wait ...      1\n",
       "1  a wonderful dining experience the ambiance was...      1\n",
       "2  amazing service and fantastic food loved every...      1\n",
       "3  i enjoyed the atmosphere and the food highly r...      1\n",
       "4  best meal ive had in a long time the flavors w...      1"
      ]
     },
     "execution_count": 47,
     "metadata": {},
     "output_type": "execute_result"
    }
   ],
   "source": [
    "processed_synthesized_df.head()"
   ]
  },
  {
   "cell_type": "markdown",
   "metadata": {},
   "source": [
    "### Format the Synthesized Dataset Format and Tokenize"
   ]
  },
  {
   "cell_type": "code",
   "execution_count": 48,
   "metadata": {},
   "outputs": [],
   "source": [
    "processed_synthesized_df['labels'] = processed_synthesized_df['Liked']\n",
    "\n",
    "test_synthesized_dataset = Dataset.from_pandas(processed_synthesized_df)\n",
    "\n",
    "# Load tokenizer and model\n",
    "# Load the fine-tuned model and tokenizer\n",
    "model_path = '../data/models/bert-base-uncased_v1'\n",
    "model = BertForSequenceClassification.from_pretrained(model_path)\n",
    "tokenizer = BertTokenizer.from_pretrained(model_path)"
   ]
  },
  {
   "cell_type": "code",
   "execution_count": 49,
   "metadata": {},
   "outputs": [],
   "source": [
    "# Tokenize helper function again\n",
    "def tokenize_function(examples):\n",
    "    # Tokenize the 'Review' column\n",
    "    tokenized = tokenizer(examples['Review'], padding='max_length', truncation=True)\n",
    "    # Include 'labels' in the tokenized output if available\n",
    "    tokenized['labels'] = examples['labels']\n",
    "    return tokenized"
   ]
  },
  {
   "cell_type": "code",
   "execution_count": 52,
   "metadata": {},
   "outputs": [
    {
     "name": "stderr",
     "output_type": "stream",
     "text": [
      "Map: 100%|██████████| 100/100 [00:00<00:00, 1237.75 examples/s]\n"
     ]
    }
   ],
   "source": [
    "test_synthesized_dataset = test_synthesized_dataset.map(tokenize_function, batched=True)\n",
    "test_synthesized_dataset.set_format(type='torch', columns=['input_ids', 'attention_mask', 'labels'])"
   ]
  },
  {
   "cell_type": "code",
   "execution_count": 53,
   "metadata": {},
   "outputs": [],
   "source": [
    "# Ensure the model is on the CPU\n",
    "model = model.to(\"cpu\")\n",
    "\n",
    "training_args = TrainingArguments(\n",
    "    output_dir=model_path,\n",
    "    per_device_eval_batch_size=16,\n",
    "    no_cuda=True\n",
    ")\n",
    "\n",
    "# Initialize the Trainer instance with CPU-only settings\n",
    "trainer = Trainer(\n",
    "    model=model,\n",
    "    args=training_args\n",
    ")\n"
   ]
  },
  {
   "cell_type": "markdown",
   "metadata": {},
   "source": [
    "### Matrics Evaluation"
   ]
  },
  {
   "cell_type": "code",
   "execution_count": 55,
   "metadata": {},
   "outputs": [
    {
     "data": {
      "text/html": [],
      "text/plain": [
       "<IPython.core.display.HTML object>"
      ]
     },
     "metadata": {},
     "output_type": "display_data"
    },
    {
     "name": "stdout",
     "output_type": "stream",
     "text": [
      "                                              Review  Liked  Predicted\n",
      "0  the food was absolutely delicious i cant wait ...      1          1\n",
      "1  a wonderful dining experience the ambiance was...      1          1\n",
      "2  amazing service and fantastic food loved every...      1          1\n",
      "3  i enjoyed the atmosphere and the food highly r...      1          1\n",
      "4  best meal ive had in a long time the flavors w...      1          1\n"
     ]
    }
   ],
   "source": [
    "# Perform prediction on the test dataset\n",
    "predictions = trainer.predict(test_synthesized_dataset)\n",
    "\n",
    "# Extract logits (raw scores) from predictions\n",
    "logits = predictions.predictions\n",
    "\n",
    "# Apply softmax to get probabilities for each class\n",
    "probs = torch.softmax(torch.tensor(logits), dim=1)\n",
    "\n",
    "# Get the predicted labels by taking the class with the highest probability\n",
    "predicted_labels = torch.argmax(probs, axis=1).numpy() \n",
    "\n",
    "# Convert predictions to a list and add as a new column to test_df\n",
    "processed_synthesized_df['Predicted'] = predicted_labels \n",
    "processed_synthesized_df['Probability_Positive'] = probs[:, 1].numpy() # Probability of the positive class 1\n",
    "\n",
    "# Display the first few rows to compare actual vs. predicted\n",
    "print(processed_synthesized_df[['Review', 'Liked', 'Predicted']].head())"
   ]
  },
  {
   "cell_type": "code",
   "execution_count": 56,
   "metadata": {},
   "outputs": [
    {
     "name": "stdout",
     "output_type": "stream",
     "text": [
      "Confusion Matrix:\n",
      "[[49  1]\n",
      " [ 1 49]]\n",
      "\n",
      "Accuracy: 0.98\n"
     ]
    }
   ],
   "source": [
    "# Calculate the confusion matrix\n",
    "conf_matrix = confusion_matrix(processed_synthesized_df['Liked'], processed_synthesized_df['Predicted'])\n",
    "\n",
    "# Calculate accuracy\n",
    "accuracy = accuracy_score(processed_synthesized_df['Liked'], processed_synthesized_df['Predicted'])\n",
    "\n",
    "print(\"Confusion Matrix:\")\n",
    "print(conf_matrix)\n",
    "print(\"\\nAccuracy:\", accuracy)"
   ]
  },
  {
   "cell_type": "code",
   "execution_count": 59,
   "metadata": {},
   "outputs": [
    {
     "data": {
      "image/png": "[encoded data removed]",
      "text/plain": [
       "<Figure size 1000x500 with 2 Axes>"
      ]
     },
     "metadata": {},
     "output_type": "display_data"
    }
   ],
   "source": [
    "# Now calculate the ROC and Precision-Recall curves using the positive class probabilities\n",
    "fpr, tpr, _ = roc_curve(processed_synthesized_df['Liked'], processed_synthesized_df['Probability_Positive'])\n",
    "roc_auc = auc(fpr, tpr)\n",
    "# Plot ROC Curve\n",
    "plt.figure(figsize=(10, 5))\n",
    "plt.subplot(1, 2, 1)\n",
    "plt.plot(fpr, tpr, color='blue', label=f'ROC curve (area = {roc_auc:.2f})')\n",
    "plt.plot([0, 1], [0, 1], color='gray', linestyle='--')\n",
    "plt.xlabel('False Positive Rate')\n",
    "plt.ylabel('True Positive Rate')\n",
    "plt.title('ROC Curve')\n",
    "plt.legend(loc=\"lower right\")\n",
    "\n",
    "# Plot Precision-Recall Curve\n",
    "precision, recall, _ = precision_recall_curve(processed_synthesized_df['Liked'], processed_synthesized_df['Probability_Positive'])\n",
    "plt.subplot(1, 2, 2)\n",
    "plt.plot(recall, precision, color='green', label='Precision-Recall curve')\n",
    "plt.xlabel('Recall')\n",
    "plt.ylabel('Precision')\n",
    "plt.title('Precision-Recall Curve')\n",
    "plt.legend(loc=\"lower left\")\n",
    "\n",
    "plt.tight_layout()\n",
    "plt.show()"
   ]
  },
  {
   "cell_type": "code",
   "execution_count": 65,
   "metadata": {},
   "outputs": [
    {
     "data": {
      "text/plain": [
       "(1, 0.97226881980896)"
      ]
     },
     "execution_count": 65,
     "metadata": {},
     "output_type": "execute_result"
    }
   ],
   "source": [
    "model_path = '../data/models/bert-base-uncased_v1'\n",
    "model = BertForSequenceClassification.from_pretrained(model_path)\n",
    "tokenizer = BertTokenizer.from_pretrained(model_path)\n",
    "\n",
    "# Set the model to evaluation mode\n",
    "model.eval()\n",
    "\n",
    "text = \"The food was amazing and the service was fantastic!\"\n",
    "\n",
    "# Tokenize the input text\n",
    "inputs = tokenizer(text, return_tensors=\"pt\")\n",
    "\n",
    "# Get the model's prediction\n",
    "with torch.no_grad():\n",
    "    outputs = model(**inputs)\n",
    "    logits = outputs.logits\n",
    "\n",
    "# Convert logits to probabilities\n",
    "probs = torch.softmax(logits, dim=1)\n",
    "\n",
    "# Get the predicted label (0 for negative, 1 for positive)\n",
    "predicted_label = torch.argmax(probs).item()\n",
    "confidence = probs[0][predicted_label].item()\n",
    "predicted_label,confidence"
   ]
  },
  {
   "cell_type": "markdown",
   "metadata": {},
   "source": [
    "# Conclusion\n",
    "\n",
    "Our sentiment analysis model achieved an impressive **98% accuracy** on the synthesized dataset, demonstrating good generalizability for this binary classification task in sentiment analysis. This high accuracy indicates that the model is effective at distinguishing between positive and negative sentiments, even on data that wasn't part of the original training set.\n",
    "\n",
    "Given this performance, we can proceed to the next step of deploying the model in a simple web application. This application will allow users to input text (e.g., customer reviews) and receive real-time predictions on the sentiment, providing a practical and interactive demonstration of the model's capabilities.\n",
    "\n",
    "Implementing the model in a web app will make it more accessible and user-friendly, enabling broader testing and usability in various scenarios related to customer sentiment."
   ]
  },
  {
   "cell_type": "code",
   "execution_count": null,
   "metadata": {},
   "outputs": [],
   "source": []
  }
 ],
 "metadata": {
  "kernelspec": {
   "display_name": "Python 3",
   "language": "python",
   "name": "python3"
  },
  "language_info": {
   "codemirror_mode": {
    "name": "ipython",
    "version": 3
   },
   "file_extension": ".py",
   "mimetype": "text/x-python",
   "name": "python",
   "nbconvert_exporter": "python",
   "pygments_lexer": "ipython3",
   "version": "3.10.12"
  }
 },
 "nbformat": 4,
 "nbformat_minor": 2
}
